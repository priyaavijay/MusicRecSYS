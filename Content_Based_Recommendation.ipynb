{
  "cells": [
    {
      "cell_type": "code",
      "execution_count": 5,
      "metadata": {
        "id": "O6MAip31Ib87"
      },
      "outputs": [
        {
          "name": "stdout",
          "output_type": "stream",
          "text": [
            "\n",
            "The 5 recommended songs for If I Could Change Your Mind are:\n",
            "\n",
            "Recommended song 1:\n",
            "Don't Ever Change by Kinks with a similarity score of 0.3998\n",
            "\n",
            "Recommended song 2:\n",
            "You'll Always Find Your Way Back Home by Miley Cyrus with a similarity score of 0.3391\n",
            "\n",
            "Recommended song 3:\n",
            "Change Of Heart by Diana Ross with a similarity score of 0.3252\n",
            "\n",
            "Recommended song 4:\n",
            "Things Change by Tim McGraw with a similarity score of 0.2965\n",
            "\n",
            "Recommended song 5:\n",
            "I Wouldn't Change The Man He Is by Diana Ross with a similarity score of 0.2411\n",
            "\n"
          ]
        }
      ],
      "source": [
        "import numpy as np\n",
        "import pandas as pd\n",
        "\n",
        "from sklearn.feature_extraction.text import TfidfVectorizer\n",
        "from sklearn.metrics.pairwise import cosine_similarity\n",
        "\n",
        "#read data from the csv file\n",
        "initial_dataset = pd.read_csv('spotify_millionsongdata.csv')\n",
        "\n",
        "#reduce the sample size to 6000\n",
        "dataset = initial_dataset.sample(n=6000).drop('link', axis=1).reset_index(drop=True)\n",
        "\n",
        "dataset['text'] = dataset['text'].str.replace('\\r\\n', '')\n",
        "\n",
        "#use tf_idf to represent data quantitatively\n",
        "tf_idf_scores = TfidfVectorizer(analyzer='word', stop_words='english')\n",
        "tf_idf_matrix = tf_idf_scores.fit_transform(dataset['text'])\n",
        "\n",
        "#use cosine similarity to calculate similarity scores\n",
        "cosinesimilarities = cosine_similarity(tf_idf_matrix)\n",
        "\n",
        "similarities = {}\n",
        "for i in range(len(cosinesimilarities)):\n",
        "   similarity_index_set = cosinesimilarities[i].argsort()[:-50:-1]\n",
        "   similarities[dataset['song'].iloc[i]] = [(cosinesimilarities[i][x], dataset['song'][x], dataset['artist'][x]) for x in similarity_index_set][1:]\n",
        "\n",
        "\n",
        "class RecommendationByContent:\n",
        "    def __init__(self, matrix):\n",
        "        self.matrix_similar = matrix\n",
        "\n",
        "    def print_recommendation(self, song, recommendation_song):\n",
        "        recommendations_count = len(recommendation_song)\n",
        "\n",
        "        print()\n",
        "        print(f'The {recommendations_count} recommended songs for {song} are:')\n",
        "        print()\n",
        "        for i in range(recommendations_count):\n",
        "            print(f\"Recommended song {i+1}:\")\n",
        "            print(f\"{recommendation_song[i][1]} by {recommendation_song[i][2]} with a similarity score of {round(recommendation_song[i][0], 4)}\\n\")\n",
        "\n",
        "\n",
        "    def recommend_song(self, recomm):\n",
        "        song = recomm['song_for_recommendation']\n",
        "        number_songs = recomm['number_of_recommendations']\n",
        "        recommendation_song = self.matrix_similar[song][:number_songs]\n",
        "        self.print_recommendation(song = song, recommendation_song = recommendation_song)\n",
        "\n",
        "recommended_songs = RecommendationByContent(similarities)\n",
        "\n",
        "recomm_song = {\n",
        "    \"song_for_recommendation\": dataset['song'].iloc[0],\n",
        "    \"number_of_recommendations\": 5\n",
        "}\n",
        "\n",
        "recommended_songs.recommend_song(recomm_song)"
      ]
    }
  ],
  "metadata": {
    "colab": {
      "provenance": []
    },
    "kernelspec": {
      "display_name": "Python 3",
      "name": "python3"
    },
    "language_info": {
      "codemirror_mode": {
        "name": "ipython",
        "version": 3
      },
      "file_extension": ".py",
      "mimetype": "text/x-python",
      "name": "python",
      "nbconvert_exporter": "python",
      "pygments_lexer": "ipython3",
      "version": "3.9.13"
    }
  },
  "nbformat": 4,
  "nbformat_minor": 0
}
